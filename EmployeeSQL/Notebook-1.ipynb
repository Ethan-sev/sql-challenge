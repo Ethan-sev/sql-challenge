{
    "metadata": {
        "kernelspec": {
            "name": "SQL",
            "display_name": "SQL",
            "language": "sql"
        },
        "language_info": {
            "name": "sql",
            "version": ""
        }
    },
    "nbformat_minor": 2,
    "nbformat": 4,
    "cells": [
        {
            "cell_type": "markdown",
            "source": [
                "<span style=\"font-size: 20px;\">1st Question</span>"
            ],
            "metadata": {
                "azdata_cell_guid": "cae98945-3c61-4623-a7d8-10fa121bf166"
            },
            "attachments": {}
        },
        {
            "cell_type": "code",
            "source": [
                "SELECT\r\n",
                "    emp_no AS \"Employee Number\",\r\n",
                "    last_name AS \"Last Name\",\r\n",
                "    first_name AS \"First Name\",\r\n",
                "    sex AS \"Sex\",\r\n",
                "    (SELECT salary FROM Salaries WHERE emp_no = Employees.emp_no) AS \"Salary\"\r\n",
                "FROM\r\n",
                "    Employees\r\n",
                "    Limit (10);"
            ],
            "metadata": {
                "azdata_cell_guid": "70c322de-bbf0-4dc3-9f29-d7ec65399687",
                "language": "sql",
                "tags": []
            },
            "outputs": [
                {
                    "output_type": "display_data",
                    "data": {
                        "text/html": "(10 row(s) affected)"
                    },
                    "metadata": {}
                },
                {
                    "output_type": "display_data",
                    "data": {
                        "text/html": "Total execution time: 00:00:00.127"
                    },
                    "metadata": {}
                },
                {
                    "output_type": "execute_result",
                    "metadata": {},
                    "execution_count": 1,
                    "data": {
                        "application/vnd.dataresource+json": {
                            "schema": {
                                "fields": [
                                    {
                                        "name": "Employee Number"
                                    },
                                    {
                                        "name": "Last Name"
                                    },
                                    {
                                        "name": "First Name"
                                    },
                                    {
                                        "name": "Sex"
                                    },
                                    {
                                        "name": "Salary"
                                    }
                                ]
                            },
                            "data": [
                                {
                                    "Employee Number": "473302",
                                    "Last Name": "Zallocco",
                                    "First Name": "Hideyuki",
                                    "Sex": "M",
                                    "Salary": "40000"
                                },
                                {
                                    "Employee Number": "475053",
                                    "Last Name": "Delgrande",
                                    "First Name": "Byong",
                                    "Sex": "F",
                                    "Salary": "53422"
                                },
                                {
                                    "Employee Number": "57444",
                                    "Last Name": "Babb",
                                    "First Name": "Berry",
                                    "Sex": "F",
                                    "Salary": "48973"
                                },
                                {
                                    "Employee Number": "421786",
                                    "Last Name": "Verhoeff",
                                    "First Name": "Xiong",
                                    "Sex": "M",
                                    "Salary": "40000"
                                },
                                {
                                    "Employee Number": "282238",
                                    "Last Name": "Baumann",
                                    "First Name": "Abdelkader",
                                    "Sex": "F",
                                    "Salary": "40000"
                                },
                                {
                                    "Employee Number": "263976",
                                    "Last Name": "Cusworth",
                                    "First Name": "Eran",
                                    "Sex": "M",
                                    "Salary": "40000"
                                },
                                {
                                    "Employee Number": "273487",
                                    "Last Name": "Parfitt",
                                    "First Name": "Christoph",
                                    "Sex": "M",
                                    "Salary": "56087"
                                },
                                {
                                    "Employee Number": "461591",
                                    "Last Name": "Samarati",
                                    "First Name": "Xudong",
                                    "Sex": "M",
                                    "Salary": "40000"
                                },
                                {
                                    "Employee Number": "477657",
                                    "Last Name": "Magliocco",
                                    "First Name": "Lihong",
                                    "Sex": "M",
                                    "Salary": "54816"
                                },
                                {
                                    "Employee Number": "219881",
                                    "Last Name": "Speek",
                                    "First Name": "Kwangyoen",
                                    "Sex": "F",
                                    "Salary": "40000"
                                }
                            ]
                        },
                        "text/html": [
                            "<table>",
                            "<tr><th>Employee Number</th><th>Last Name</th><th>First Name</th><th>Sex</th><th>Salary</th></tr>",
                            "<tr><td>473302</td><td>Zallocco</td><td>Hideyuki</td><td>M</td><td>40000</td></tr>",
                            "<tr><td>475053</td><td>Delgrande</td><td>Byong</td><td>F</td><td>53422</td></tr>",
                            "<tr><td>57444</td><td>Babb</td><td>Berry</td><td>F</td><td>48973</td></tr>",
                            "<tr><td>421786</td><td>Verhoeff</td><td>Xiong</td><td>M</td><td>40000</td></tr>",
                            "<tr><td>282238</td><td>Baumann</td><td>Abdelkader</td><td>F</td><td>40000</td></tr>",
                            "<tr><td>263976</td><td>Cusworth</td><td>Eran</td><td>M</td><td>40000</td></tr>",
                            "<tr><td>273487</td><td>Parfitt</td><td>Christoph</td><td>M</td><td>56087</td></tr>",
                            "<tr><td>461591</td><td>Samarati</td><td>Xudong</td><td>M</td><td>40000</td></tr>",
                            "<tr><td>477657</td><td>Magliocco</td><td>Lihong</td><td>M</td><td>54816</td></tr>",
                            "<tr><td>219881</td><td>Speek</td><td>Kwangyoen</td><td>F</td><td>40000</td></tr>",
                            "</table>"
                        ]
                    }
                }
            ],
            "execution_count": 1
        },
        {
            "cell_type": "markdown",
            "source": [
                "<span style=\"color: rgb(43, 43, 43); font-family: Roboto, sans-serif; font-size: 20px; background-color: yellow;\">List the first name, last name, and hire date for the employees who were hired in 1986</span>"
            ],
            "metadata": {
                "language": "sql",
                "azdata_cell_guid": "86b162f5-d69e-4db7-96b9-e0ffb40c3a55"
            },
            "attachments": {}
        },
        {
            "cell_type": "code",
            "source": [
                "\r\n",
                "SELECT\r\n",
                "    last_name AS \"Last Name\",\r\n",
                "    first_name AS \"First Name\",\r\n",
                "    hire_date AS \"Hire Date\"\r\n",
                "    from Employees\r\n",
                "    WHERE\r\n",
                "    hire_date >= DATE '1986-01-01' AND hire_date < DATE '1987-01-01\r\n",
                "LIMIT 10;"
            ],
            "metadata": {
                "language": "sql",
                "azdata_cell_guid": "9833c4c2-4d51-41d6-87a9-d357f5c5a959"
            },
            "outputs": [
                {
                    "output_type": "display_data",
                    "data": {
                        "text/html": "(10 row(s) affected)"
                    },
                    "metadata": {}
                },
                {
                    "output_type": "display_data",
                    "data": {
                        "text/html": "Total execution time: 00:00:00.004"
                    },
                    "metadata": {}
                },
                {
                    "output_type": "execute_result",
                    "metadata": {},
                    "execution_count": 4,
                    "data": {
                        "application/vnd.dataresource+json": {
                            "schema": {
                                "fields": [
                                    {
                                        "name": "Last Name"
                                    },
                                    {
                                        "name": "First Name"
                                    },
                                    {
                                        "name": "Hire Date"
                                    }
                                ]
                            },
                            "data": [
                                {
                                    "Last Name": "Cusworth",
                                    "First Name": "Eran",
                                    "Hire Date": "1986-11-14"
                                },
                                {
                                    "Last Name": "Zallocco",
                                    "First Name": "Bojan",
                                    "Hire Date": "1986-10-14"
                                },
                                {
                                    "Last Name": "Demizu",
                                    "First Name": "Nevio",
                                    "Hire Date": "1986-05-18"
                                },
                                {
                                    "Last Name": "Vecchi",
                                    "First Name": "Ziva",
                                    "Hire Date": "1986-07-03"
                                },
                                {
                                    "Last Name": "Speek",
                                    "First Name": "Mohit",
                                    "Hire Date": "1986-01-14"
                                },
                                {
                                    "Last Name": "Speer",
                                    "First Name": "Qunsheng",
                                    "Hire Date": "1986-02-13"
                                },
                                {
                                    "Last Name": "Encarnacion",
                                    "First Name": "Dines",
                                    "Hire Date": "1986-08-02"
                                },
                                {
                                    "Last Name": "Swick",
                                    "First Name": "Harngdar",
                                    "Hire Date": "1986-05-28"
                                },
                                {
                                    "Last Name": "Uhrig",
                                    "First Name": "Freyja",
                                    "Hire Date": "1986-12-20"
                                },
                                {
                                    "Last Name": "Milicic",
                                    "First Name": "Zhenhua",
                                    "Hire Date": "1986-08-04"
                                }
                            ]
                        },
                        "text/html": [
                            "<table>",
                            "<tr><th>Last Name</th><th>First Name</th><th>Hire Date</th></tr>",
                            "<tr><td>Cusworth</td><td>Eran</td><td>1986-11-14</td></tr>",
                            "<tr><td>Zallocco</td><td>Bojan</td><td>1986-10-14</td></tr>",
                            "<tr><td>Demizu</td><td>Nevio</td><td>1986-05-18</td></tr>",
                            "<tr><td>Vecchi</td><td>Ziva</td><td>1986-07-03</td></tr>",
                            "<tr><td>Speek</td><td>Mohit</td><td>1986-01-14</td></tr>",
                            "<tr><td>Speer</td><td>Qunsheng</td><td>1986-02-13</td></tr>",
                            "<tr><td>Encarnacion</td><td>Dines</td><td>1986-08-02</td></tr>",
                            "<tr><td>Swick</td><td>Harngdar</td><td>1986-05-28</td></tr>",
                            "<tr><td>Uhrig</td><td>Freyja</td><td>1986-12-20</td></tr>",
                            "<tr><td>Milicic</td><td>Zhenhua</td><td>1986-08-04</td></tr>",
                            "</table>"
                        ]
                    }
                }
            ],
            "execution_count": 4
        },
        {
            "cell_type": "markdown",
            "source": [
                "1. List the manager of each department along with their department number, department name, employee number, last name, and first name."
            ],
            "metadata": {
                "language": "sql",
                "azdata_cell_guid": "256fc248-d7a0-4cf1-bd94-752bbeaf1908"
            },
            "attachments": {}
        },
        {
            "cell_type": "code",
            "source": [
                "SELECT\r\n",
                "    emp_no AS \"Employee Number\",\r\n",
                "    dept_no as \"Dapartment Number\",\r\n",
                "    (SELECT dept_name FROM Departments WHERE dept_no = Dept_Manager.dept_no) AS \"Department Name\",\r\n",
                "    (select last_name from Employees WHERE emp_no = Dept_Manager.emp_no ),\r\n",
                "    (select first_name from Employees WHERE emp_no = Dept_Manager.emp_no )\r\n",
                "FROM\r\n",
                "    Dept_Manager\r\n",
                "    Limit (100);"
            ],
            "metadata": {
                "azdata_cell_guid": "2ce59bae-e26a-4849-afd3-ed1c68fec8cf",
                "language": "sql"
            },
            "outputs": [
                {
                    "output_type": "display_data",
                    "data": {
                        "text/html": "(24 row(s) affected)"
                    },
                    "metadata": {}
                },
                {
                    "output_type": "display_data",
                    "data": {
                        "text/html": "Total execution time: 00:00:00.002"
                    },
                    "metadata": {}
                },
                {
                    "output_type": "execute_result",
                    "metadata": {},
                    "execution_count": 8,
                    "data": {
                        "application/vnd.dataresource+json": {
                            "schema": {
                                "fields": [
                                    {
                                        "name": "Employee Number"
                                    },
                                    {
                                        "name": "Dapartment Number"
                                    },
                                    {
                                        "name": "Department Name"
                                    },
                                    {
                                        "name": "last_name"
                                    },
                                    {
                                        "name": "first_name"
                                    }
                                ]
                            },
                            "data": [
                                {
                                    "Employee Number": "110022",
                                    "Dapartment Number": "d001",
                                    "Department Name": "Marketing",
                                    "last_name": "Markovitch",
                                    "first_name": "Margareta"
                                },
                                {
                                    "Employee Number": "110039",
                                    "Dapartment Number": "d001",
                                    "Department Name": "Marketing",
                                    "last_name": "Minakawa",
                                    "first_name": "Vishwani"
                                },
                                {
                                    "Employee Number": "110085",
                                    "Dapartment Number": "d002",
                                    "Department Name": "Finance",
                                    "last_name": "Alpin",
                                    "first_name": "Ebru"
                                },
                                {
                                    "Employee Number": "110114",
                                    "Dapartment Number": "d002",
                                    "Department Name": "Finance",
                                    "last_name": "Legleitner",
                                    "first_name": "Isamu"
                                },
                                {
                                    "Employee Number": "110183",
                                    "Dapartment Number": "d003",
                                    "Department Name": "Human Resources",
                                    "last_name": "Ossenbruggen",
                                    "first_name": "Shirish"
                                },
                                {
                                    "Employee Number": "110228",
                                    "Dapartment Number": "d003",
                                    "Department Name": "Human Resources",
                                    "last_name": "Sigstam",
                                    "first_name": "Karsten"
                                },
                                {
                                    "Employee Number": "110303",
                                    "Dapartment Number": "d004",
                                    "Department Name": "Production",
                                    "last_name": "Wegerle",
                                    "first_name": "Krassimir"
                                },
                                {
                                    "Employee Number": "110344",
                                    "Dapartment Number": "d004",
                                    "Department Name": "Production",
                                    "last_name": "Cools",
                                    "first_name": "Rosine"
                                },
                                {
                                    "Employee Number": "110386",
                                    "Dapartment Number": "d004",
                                    "Department Name": "Production",
                                    "last_name": "Kieras",
                                    "first_name": "Shem"
                                },
                                {
                                    "Employee Number": "110420",
                                    "Dapartment Number": "d004",
                                    "Department Name": "Production",
                                    "last_name": "Ghazalie",
                                    "first_name": "Oscar"
                                },
                                {
                                    "Employee Number": "110511",
                                    "Dapartment Number": "d005",
                                    "Department Name": "Development",
                                    "last_name": "Hagimont",
                                    "first_name": "DeForest"
                                },
                                {
                                    "Employee Number": "110567",
                                    "Dapartment Number": "d005",
                                    "Department Name": "Development",
                                    "last_name": "DasSarma",
                                    "first_name": "Leon"
                                },
                                {
                                    "Employee Number": "110725",
                                    "Dapartment Number": "d006",
                                    "Department Name": "Quality Management",
                                    "last_name": "Onuegbe",
                                    "first_name": "Peternela"
                                },
                                {
                                    "Employee Number": "110765",
                                    "Dapartment Number": "d006",
                                    "Department Name": "Quality Management",
                                    "last_name": "Hofmeyr",
                                    "first_name": "Rutger"
                                },
                                {
                                    "Employee Number": "110800",
                                    "Dapartment Number": "d006",
                                    "Department Name": "Quality Management",
                                    "last_name": "Quadeer",
                                    "first_name": "Sanjoy"
                                },
                                {
                                    "Employee Number": "110854",
                                    "Dapartment Number": "d006",
                                    "Department Name": "Quality Management",
                                    "last_name": "Pesch",
                                    "first_name": "Dung"
                                },
                                {
                                    "Employee Number": "111035",
                                    "Dapartment Number": "d007",
                                    "Department Name": "Sales",
                                    "last_name": "Kaelbling",
                                    "first_name": "Przemyslawa"
                                },
                                {
                                    "Employee Number": "111133",
                                    "Dapartment Number": "d007",
                                    "Department Name": "Sales",
                                    "last_name": "Zhang",
                                    "first_name": "Hauke"
                                },
                                {
                                    "Employee Number": "111400",
                                    "Dapartment Number": "d008",
                                    "Department Name": "Research",
                                    "last_name": "Staelin",
                                    "first_name": "Arie"
                                },
                                {
                                    "Employee Number": "111534",
                                    "Dapartment Number": "d008",
                                    "Department Name": "Research",
                                    "last_name": "Kambil",
                                    "first_name": "Hilary"
                                },
                                {
                                    "Employee Number": "111692",
                                    "Dapartment Number": "d009",
                                    "Department Name": "Customer Service",
                                    "last_name": "Butterworth",
                                    "first_name": "Tonny"
                                },
                                {
                                    "Employee Number": "111784",
                                    "Dapartment Number": "d009",
                                    "Department Name": "Customer Service",
                                    "last_name": "Giarratana",
                                    "first_name": "Marjo"
                                },
                                {
                                    "Employee Number": "111877",
                                    "Dapartment Number": "d009",
                                    "Department Name": "Customer Service",
                                    "last_name": "Spinelli",
                                    "first_name": "Xiaobin"
                                },
                                {
                                    "Employee Number": "111939",
                                    "Dapartment Number": "d009",
                                    "Department Name": "Customer Service",
                                    "last_name": "Weedman",
                                    "first_name": "Yuchang"
                                }
                            ]
                        },
                        "text/html": [
                            "<table>",
                            "<tr><th>Employee Number</th><th>Dapartment Number</th><th>Department Name</th><th>last_name</th><th>first_name</th></tr>",
                            "<tr><td>110022</td><td>d001</td><td>Marketing</td><td>Markovitch</td><td>Margareta</td></tr>",
                            "<tr><td>110039</td><td>d001</td><td>Marketing</td><td>Minakawa</td><td>Vishwani</td></tr>",
                            "<tr><td>110085</td><td>d002</td><td>Finance</td><td>Alpin</td><td>Ebru</td></tr>",
                            "<tr><td>110114</td><td>d002</td><td>Finance</td><td>Legleitner</td><td>Isamu</td></tr>",
                            "<tr><td>110183</td><td>d003</td><td>Human Resources</td><td>Ossenbruggen</td><td>Shirish</td></tr>",
                            "<tr><td>110228</td><td>d003</td><td>Human Resources</td><td>Sigstam</td><td>Karsten</td></tr>",
                            "<tr><td>110303</td><td>d004</td><td>Production</td><td>Wegerle</td><td>Krassimir</td></tr>",
                            "<tr><td>110344</td><td>d004</td><td>Production</td><td>Cools</td><td>Rosine</td></tr>",
                            "<tr><td>110386</td><td>d004</td><td>Production</td><td>Kieras</td><td>Shem</td></tr>",
                            "<tr><td>110420</td><td>d004</td><td>Production</td><td>Ghazalie</td><td>Oscar</td></tr>",
                            "<tr><td>110511</td><td>d005</td><td>Development</td><td>Hagimont</td><td>DeForest</td></tr>",
                            "<tr><td>110567</td><td>d005</td><td>Development</td><td>DasSarma</td><td>Leon</td></tr>",
                            "<tr><td>110725</td><td>d006</td><td>Quality Management</td><td>Onuegbe</td><td>Peternela</td></tr>",
                            "<tr><td>110765</td><td>d006</td><td>Quality Management</td><td>Hofmeyr</td><td>Rutger</td></tr>",
                            "<tr><td>110800</td><td>d006</td><td>Quality Management</td><td>Quadeer</td><td>Sanjoy</td></tr>",
                            "<tr><td>110854</td><td>d006</td><td>Quality Management</td><td>Pesch</td><td>Dung</td></tr>",
                            "<tr><td>111035</td><td>d007</td><td>Sales</td><td>Kaelbling</td><td>Przemyslawa</td></tr>",
                            "<tr><td>111133</td><td>d007</td><td>Sales</td><td>Zhang</td><td>Hauke</td></tr>",
                            "<tr><td>111400</td><td>d008</td><td>Research</td><td>Staelin</td><td>Arie</td></tr>",
                            "<tr><td>111534</td><td>d008</td><td>Research</td><td>Kambil</td><td>Hilary</td></tr>",
                            "<tr><td>111692</td><td>d009</td><td>Customer Service</td><td>Butterworth</td><td>Tonny</td></tr>",
                            "<tr><td>111784</td><td>d009</td><td>Customer Service</td><td>Giarratana</td><td>Marjo</td></tr>",
                            "<tr><td>111877</td><td>d009</td><td>Customer Service</td><td>Spinelli</td><td>Xiaobin</td></tr>",
                            "<tr><td>111939</td><td>d009</td><td>Customer Service</td><td>Weedman</td><td>Yuchang</td></tr>",
                            "</table>"
                        ]
                    }
                }
            ],
            "execution_count": 8
        }
    ]
}