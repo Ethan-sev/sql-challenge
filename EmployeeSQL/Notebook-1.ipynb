{
    "metadata": {
        "kernelspec": {
            "name": "SQL",
            "display_name": "SQL",
            "language": "sql"
        },
        "language_info": {
            "name": "sql",
            "version": ""
        }
    },
    "nbformat_minor": 2,
    "nbformat": 4,
    "cells": [
        {
            "cell_type": "markdown",
            "source": [
                "<span style=\"font-size: 20px;\">1st Question</span>"
            ],
            "metadata": {
                "azdata_cell_guid": "cae98945-3c61-4623-a7d8-10fa121bf166"
            },
            "attachments": {}
        },
        {
            "cell_type": "code",
            "source": [
                "SELECT\r\n",
                "    emp_no AS \"Employee Number\",\r\n",
                "    last_name AS \"Last Name\",\r\n",
                "    first_name AS \"First Name\",\r\n",
                "    sex AS \"Sex\",\r\n",
                "    (SELECT salary FROM Salaries WHERE emp_no = Employees.emp_no) AS \"Salary\"\r\n",
                "FROM\r\n",
                "    Employees\r\n",
                "    Limit (100);"
            ],
            "metadata": {
                "azdata_cell_guid": "70c322de-bbf0-4dc3-9f29-d7ec65399687",
                "language": "sql",
                "tags": []
            },
            "outputs": [
                {
                    "output_type": "display_data",
                    "data": {
                        "text/html": "(100 row(s) affected)"
                    },
                    "metadata": {}
                },
                {
                    "output_type": "display_data",
                    "data": {
                        "text/html": "Total execution time: 00:00:01.154"
                    },
                    "metadata": {}
                },
                {
                    "output_type": "execute_result",
                    "metadata": {},
                    "execution_count": 4,
                    "data": {
                        "application/vnd.dataresource+json": {
                            "schema": {
                                "fields": [
                                    {
                                        "name": "Employee Number"
                                    },
                                    {
                                        "name": "Last Name"
                                    },
                                    {
                                        "name": "First Name"
                                    },
                                    {
                                        "name": "Sex"
                                    },
                                    {
                                        "name": "Salary"
                                    }
                                ]
                            },
                            "data": [
                                {
                                    "Employee Number": "473302",
                                    "Last Name": "Zallocco",
                                    "First Name": "Hideyuki",
                                    "Sex": "M",
                                    "Salary": "40000"
                                },
                                {
                                    "Employee Number": "475053",
                                    "Last Name": "Delgrande",
                                    "First Name": "Byong",
                                    "Sex": "F",
                                    "Salary": "53422"
                                },
                                {
                                    "Employee Number": "57444",
                                    "Last Name": "Babb",
                                    "First Name": "Berry",
                                    "Sex": "F",
                                    "Salary": "48973"
                                },
                                {
                                    "Employee Number": "421786",
                                    "Last Name": "Verhoeff",
                                    "First Name": "Xiong",
                                    "Sex": "M",
                                    "Salary": "40000"
                                },
                                {
                                    "Employee Number": "282238",
                                    "Last Name": "Baumann",
                                    "First Name": "Abdelkader",
                                    "Sex": "F",
                                    "Salary": "40000"
                                },
                                {
                                    "Employee Number": "263976",
                                    "Last Name": "Cusworth",
                                    "First Name": "Eran",
                                    "Sex": "M",
                                    "Salary": "40000"
                                },
                                {
                                    "Employee Number": "273487",
                                    "Last Name": "Parfitt",
                                    "First Name": "Christoph",
                                    "Sex": "M",
                                    "Salary": "56087"
                                },
                                {
                                    "Employee Number": "461591",
                                    "Last Name": "Samarati",
                                    "First Name": "Xudong",
                                    "Sex": "M",
                                    "Salary": "40000"
                                },
                                {
                                    "Employee Number": "477657",
                                    "Last Name": "Magliocco",
                                    "First Name": "Lihong",
                                    "Sex": "M",
                                    "Salary": "54816"
                                },
                                {
                                    "Employee Number": "219881",
                                    "Last Name": "Speek",
                                    "First Name": "Kwangyoen",
                                    "Sex": "F",
                                    "Salary": "40000"
                                },
                                {
                                    "Employee Number": "29920",
                                    "Last Name": "Tyugu",
                                    "First Name": "Shuichi",
                                    "Sex": "F",
                                    "Salary": "40000"
                                },
                                {
                                    "Employee Number": "208153",
                                    "Last Name": "Lunn",
                                    "First Name": "Abdulah",
                                    "Sex": "M",
                                    "Salary": "50183"
                                },
                                {
                                    "Employee Number": "13616",
                                    "Last Name": "Lorho",
                                    "First Name": "Perry",
                                    "Sex": "F",
                                    "Salary": "40000"
                                },
                                {
                                    "Employee Number": "246449",
                                    "Last Name": "Bultermann",
                                    "First Name": "Subbu",
                                    "Sex": "F",
                                    "Salary": "87084"
                                },
                                {
                                    "Employee Number": "21529",
                                    "Last Name": "Zallocco",
                                    "First Name": "Bojan",
                                    "Sex": "M",
                                    "Salary": "40000"
                                },
                                {
                                    "Employee Number": "17934",
                                    "Last Name": "Wuwongse",
                                    "First Name": "Bilhanan",
                                    "Sex": "M",
                                    "Salary": "48795"
                                },
                                {
                                    "Employee Number": "48085",
                                    "Last Name": "Gilg",
                                    "First Name": "Venkatesan",
                                    "Sex": "M",
                                    "Salary": "63016"
                                },
                                {
                                    "Employee Number": "239838",
                                    "Last Name": "Dulli",
                                    "First Name": "Naftali",
                                    "Sex": "M",
                                    "Salary": "57715"
                                },
                                {
                                    "Employee Number": "240129",
                                    "Last Name": "Karnin",
                                    "First Name": "Roddy",
                                    "Sex": "M",
                                    "Salary": "43548"
                                },
                                {
                                    "Employee Number": "205246",
                                    "Last Name": "Demizu",
                                    "First Name": "Nevio",
                                    "Sex": "F",
                                    "Salary": "80252"
                                },
                                {
                                    "Employee Number": "476443",
                                    "Last Name": "Asmuth",
                                    "First Name": "Ziya",
                                    "Sex": "M",
                                    "Salary": "63371"
                                },
                                {
                                    "Employee Number": "424270",
                                    "Last Name": "Yoshizawa",
                                    "First Name": "Kellyn",
                                    "Sex": "F",
                                    "Salary": "60678"
                                },
                                {
                                    "Employee Number": "71530",
                                    "Last Name": "McAlpine",
                                    "First Name": "Venkatesan",
                                    "Sex": "M",
                                    "Salary": "69148"
                                },
                                {
                                    "Employee Number": "427958",
                                    "Last Name": "Poujol",
                                    "First Name": "Feixiong",
                                    "Sex": "F",
                                    "Salary": "63377"
                                },
                                {
                                    "Employee Number": "280408",
                                    "Last Name": "Perl",
                                    "First Name": "Elliott",
                                    "Sex": "M",
                                    "Salary": "75963"
                                },
                                {
                                    "Employee Number": "104639",
                                    "Last Name": "Escriba",
                                    "First Name": "Theron",
                                    "Sex": "F",
                                    "Salary": "40000"
                                },
                                {
                                    "Employee Number": "214555",
                                    "Last Name": "Copas",
                                    "First Name": "Nechama",
                                    "Sex": "F",
                                    "Salary": "40000"
                                },
                                {
                                    "Employee Number": "229010",
                                    "Last Name": "Cappelli",
                                    "First Name": "Mark",
                                    "Sex": "M",
                                    "Salary": "40000"
                                },
                                {
                                    "Employee Number": "35916",
                                    "Last Name": "Talmon",
                                    "First Name": "Wonhee",
                                    "Sex": "F",
                                    "Salary": "40000"
                                },
                                {
                                    "Employee Number": "61583",
                                    "Last Name": "Vecchi",
                                    "First Name": "Ziva",
                                    "Sex": "M",
                                    "Salary": "50801"
                                },
                                {
                                    "Employee Number": "67799",
                                    "Last Name": "Cools",
                                    "First Name": "Pantung",
                                    "Sex": "M",
                                    "Salary": "48111"
                                },
                                {
                                    "Employee Number": "37061",
                                    "Last Name": "Herbst",
                                    "First Name": "Piyawadee",
                                    "Sex": "F",
                                    "Salary": "40000"
                                },
                                {
                                    "Employee Number": "411412",
                                    "Last Name": "Schaar",
                                    "First Name": "Hairong",
                                    "Sex": "M",
                                    "Salary": "42348"
                                },
                                {
                                    "Employee Number": "422587",
                                    "Last Name": "Speek",
                                    "First Name": "Mohit",
                                    "Sex": "F",
                                    "Salary": "40000"
                                },
                                {
                                    "Employee Number": "35270",
                                    "Last Name": "Bakhtari",
                                    "First Name": "Masali",
                                    "Sex": "M",
                                    "Salary": "40338"
                                },
                                {
                                    "Employee Number": "105597",
                                    "Last Name": "Kabayashi",
                                    "First Name": "Christfried",
                                    "Sex": "M",
                                    "Salary": "43841"
                                },
                                {
                                    "Employee Number": "244689",
                                    "Last Name": "Saoudi",
                                    "First Name": "Urs",
                                    "Sex": "M",
                                    "Salary": "40000"
                                },
                                {
                                    "Employee Number": "48885",
                                    "Last Name": "Antonisse",
                                    "First Name": "Phuoc",
                                    "Sex": "M",
                                    "Salary": "55736"
                                },
                                {
                                    "Employee Number": "244492",
                                    "Last Name": "Pettit",
                                    "First Name": "Shaunak",
                                    "Sex": "M",
                                    "Salary": "63685"
                                },
                                {
                                    "Employee Number": "215615",
                                    "Last Name": "Chinal",
                                    "First Name": "Bader",
                                    "Sex": "F",
                                    "Salary": "40000"
                                },
                                {
                                    "Employee Number": "95280",
                                    "Last Name": "Hiraishi",
                                    "First Name": "Owen",
                                    "Sex": "F",
                                    "Salary": "40000"
                                },
                                {
                                    "Employee Number": "37473",
                                    "Last Name": "Valette",
                                    "First Name": "Prasadram",
                                    "Sex": "M",
                                    "Salary": "55963"
                                },
                                {
                                    "Employee Number": "43471",
                                    "Last Name": "Gihr",
                                    "First Name": "Mechthild",
                                    "Sex": "F",
                                    "Salary": "40023"
                                },
                                {
                                    "Employee Number": "289261",
                                    "Last Name": "Nollmann",
                                    "First Name": "Gad",
                                    "Sex": "M",
                                    "Salary": "63068"
                                },
                                {
                                    "Employee Number": "26941",
                                    "Last Name": "Masamoto",
                                    "First Name": "Shigeu",
                                    "Sex": "M",
                                    "Salary": "40000"
                                },
                                {
                                    "Employee Number": "465253",
                                    "Last Name": "Yoshimura",
                                    "First Name": "Gladys",
                                    "Sex": "F",
                                    "Salary": "43653"
                                },
                                {
                                    "Employee Number": "444985",
                                    "Last Name": "Verspoor",
                                    "First Name": "Giap",
                                    "Sex": "F",
                                    "Salary": "71042"
                                },
                                {
                                    "Employee Number": "299898",
                                    "Last Name": "Janocha",
                                    "First Name": "Munehiko",
                                    "Sex": "M",
                                    "Salary": "63315"
                                },
                                {
                                    "Employee Number": "492723",
                                    "Last Name": "Sanella",
                                    "First Name": "Piyawadee",
                                    "Sex": "M",
                                    "Salary": "46740"
                                },
                                {
                                    "Employee Number": "425023",
                                    "Last Name": "Krone",
                                    "First Name": "Shaowen",
                                    "Sex": "M",
                                    "Salary": "45682"
                                },
                                {
                                    "Employee Number": "411614",
                                    "Last Name": "Wynblatt",
                                    "First Name": "Martins",
                                    "Sex": "M",
                                    "Salary": "54770"
                                },
                                {
                                    "Employee Number": "425656",
                                    "Last Name": "Imataki",
                                    "First Name": "Basem",
                                    "Sex": "M",
                                    "Salary": "40000"
                                },
                                {
                                    "Employee Number": "252000",
                                    "Last Name": "Gyimothy",
                                    "First Name": "Zhonghui",
                                    "Sex": "F",
                                    "Salary": "40000"
                                },
                                {
                                    "Employee Number": "477628",
                                    "Last Name": "Beutelspacher",
                                    "First Name": "Duro",
                                    "Sex": "M",
                                    "Salary": "58592"
                                },
                                {
                                    "Employee Number": "103676",
                                    "Last Name": "Matzov",
                                    "First Name": "Karoline",
                                    "Sex": "F",
                                    "Salary": "62128"
                                },
                                {
                                    "Employee Number": "93916",
                                    "Last Name": "Rousseau",
                                    "First Name": "Rosalie",
                                    "Sex": "F",
                                    "Salary": "53040"
                                },
                                {
                                    "Employee Number": "430653",
                                    "Last Name": "Peroz",
                                    "First Name": "Masoud",
                                    "Sex": "F",
                                    "Salary": "69077"
                                },
                                {
                                    "Employee Number": "293744",
                                    "Last Name": "Carrere",
                                    "First Name": "Kolar",
                                    "Sex": "M",
                                    "Salary": "40000"
                                },
                                {
                                    "Employee Number": "222134",
                                    "Last Name": "Speer",
                                    "First Name": "Qunsheng",
                                    "Sex": "M",
                                    "Salary": "48391"
                                },
                                {
                                    "Employee Number": "465348",
                                    "Last Name": "Beznosov",
                                    "First Name": "Limsoon",
                                    "Sex": "M",
                                    "Salary": "40000"
                                },
                                {
                                    "Employee Number": "92149",
                                    "Last Name": "Kamber",
                                    "First Name": "Serenella",
                                    "Sex": "F",
                                    "Salary": "69585"
                                },
                                {
                                    "Employee Number": "406318",
                                    "Last Name": "Gunderson",
                                    "First Name": "Hitomi",
                                    "Sex": "M",
                                    "Salary": "55145"
                                },
                                {
                                    "Employee Number": "259126",
                                    "Last Name": "Encarnacion",
                                    "First Name": "Dines",
                                    "Sex": "M",
                                    "Salary": "70329"
                                },
                                {
                                    "Employee Number": "42625",
                                    "Last Name": "Swick",
                                    "First Name": "Harngdar",
                                    "Sex": "F",
                                    "Salary": "55095"
                                },
                                {
                                    "Employee Number": "85093",
                                    "Last Name": "Covnot",
                                    "First Name": "Nectarios",
                                    "Sex": "M",
                                    "Salary": "97816"
                                },
                                {
                                    "Employee Number": "281320",
                                    "Last Name": "Ratzlaff",
                                    "First Name": "Karoline",
                                    "Sex": "F",
                                    "Salary": "41600"
                                },
                                {
                                    "Employee Number": "402202",
                                    "Last Name": "Pusterhofer",
                                    "First Name": "Leni",
                                    "Sex": "M",
                                    "Salary": "41006"
                                },
                                {
                                    "Employee Number": "419277",
                                    "Last Name": "Uhrig",
                                    "First Name": "Freyja",
                                    "Sex": "M",
                                    "Salary": "46833"
                                },
                                {
                                    "Employee Number": "451259",
                                    "Last Name": "Milicic",
                                    "First Name": "Zhenhua",
                                    "Sex": "M",
                                    "Salary": "46138"
                                },
                                {
                                    "Employee Number": "225842",
                                    "Last Name": "Schmezko",
                                    "First Name": "Bowen",
                                    "Sex": "M",
                                    "Salary": "40000"
                                },
                                {
                                    "Employee Number": "62038",
                                    "Last Name": "Narlikar",
                                    "First Name": "Shiv",
                                    "Sex": "F",
                                    "Salary": "60105"
                                },
                                {
                                    "Employee Number": "256701",
                                    "Last Name": "Veevers",
                                    "First Name": "Chikako",
                                    "Sex": "F",
                                    "Salary": "40000"
                                },
                                {
                                    "Employee Number": "205366",
                                    "Last Name": "Shimshoni",
                                    "First Name": "Kazuhira",
                                    "Sex": "F",
                                    "Salary": "80518"
                                },
                                {
                                    "Employee Number": "101013",
                                    "Last Name": "Pappas",
                                    "First Name": "Leen",
                                    "Sex": "M",
                                    "Salary": "68550"
                                },
                                {
                                    "Employee Number": "212882",
                                    "Last Name": "Pietracaprina",
                                    "First Name": "Changho",
                                    "Sex": "F",
                                    "Salary": "40000"
                                },
                                {
                                    "Employee Number": "21620",
                                    "Last Name": "Pramanik",
                                    "First Name": "Shaowen",
                                    "Sex": "M",
                                    "Salary": "40000"
                                },
                                {
                                    "Employee Number": "223670",
                                    "Last Name": "Chinin",
                                    "First Name": "Erez",
                                    "Sex": "F",
                                    "Salary": "40000"
                                },
                                {
                                    "Employee Number": "209422",
                                    "Last Name": "Gischer",
                                    "First Name": "Reinhard",
                                    "Sex": "M",
                                    "Salary": "72780"
                                },
                                {
                                    "Employee Number": "403328",
                                    "Last Name": "Kroha",
                                    "First Name": "Shem",
                                    "Sex": "M",
                                    "Salary": "40000"
                                },
                                {
                                    "Employee Number": "292694",
                                    "Last Name": "Demizu",
                                    "First Name": "Kauko",
                                    "Sex": "M",
                                    "Salary": "40000"
                                },
                                {
                                    "Employee Number": "483560",
                                    "Last Name": "Krybus",
                                    "First Name": "Yannik",
                                    "Sex": "M",
                                    "Salary": "52487"
                                },
                                {
                                    "Employee Number": "270554",
                                    "Last Name": "Litecky",
                                    "First Name": "Percy",
                                    "Sex": "F",
                                    "Salary": "40000"
                                },
                                {
                                    "Employee Number": "37601",
                                    "Last Name": "Naumovich",
                                    "First Name": "Gilbert",
                                    "Sex": "M",
                                    "Salary": "58896"
                                },
                                {
                                    "Employee Number": "437985",
                                    "Last Name": "Munke",
                                    "First Name": "Reuven",
                                    "Sex": "M",
                                    "Salary": "53517"
                                },
                                {
                                    "Employee Number": "14097",
                                    "Last Name": "Gniady",
                                    "First Name": "Khalil",
                                    "Sex": "M",
                                    "Salary": "70604"
                                },
                                {
                                    "Employee Number": "221689",
                                    "Last Name": "Harllee",
                                    "First Name": "Fayez",
                                    "Sex": "F",
                                    "Salary": "67589"
                                },
                                {
                                    "Employee Number": "62117",
                                    "Last Name": "Crouzet",
                                    "First Name": "Bojan",
                                    "Sex": "F",
                                    "Salary": "40000"
                                },
                                {
                                    "Employee Number": "213813",
                                    "Last Name": "Matzat",
                                    "First Name": "Tsuneo",
                                    "Sex": "M",
                                    "Salary": "51196"
                                },
                                {
                                    "Employee Number": "28823",
                                    "Last Name": "Skafidas",
                                    "First Name": "Tonny",
                                    "Sex": "M",
                                    "Salary": "62549"
                                },
                                {
                                    "Employee Number": "284330",
                                    "Last Name": "Pehl",
                                    "First Name": "Bangqing",
                                    "Sex": "F",
                                    "Salary": "43654"
                                },
                                {
                                    "Employee Number": "107258",
                                    "Last Name": "Zaumen",
                                    "First Name": "Parviz",
                                    "Sex": "F",
                                    "Salary": "87036"
                                },
                                {
                                    "Employee Number": "209527",
                                    "Last Name": "Danlos",
                                    "First Name": "Sashi",
                                    "Sex": "M",
                                    "Salary": "40000"
                                },
                                {
                                    "Employee Number": "207774",
                                    "Last Name": "Trachtenberg",
                                    "First Name": "KayLiang",
                                    "Sex": "M",
                                    "Salary": "53722"
                                },
                                {
                                    "Employee Number": "11980",
                                    "Last Name": "Pews",
                                    "First Name": "Yechezkel",
                                    "Sex": "M",
                                    "Salary": "58241"
                                },
                                {
                                    "Employee Number": "270258",
                                    "Last Name": "Hasenauer",
                                    "First Name": "Feipei",
                                    "Sex": "M",
                                    "Salary": "40000"
                                },
                                {
                                    "Employee Number": "492191",
                                    "Last Name": "Vakili",
                                    "First Name": "Remco",
                                    "Sex": "F",
                                    "Salary": "49502"
                                },
                                {
                                    "Employee Number": "457800",
                                    "Last Name": "Domenig",
                                    "First Name": "Stabislas",
                                    "Sex": "M",
                                    "Salary": "64014"
                                },
                                {
                                    "Employee Number": "446142",
                                    "Last Name": "Zedlitz",
                                    "First Name": "Gregory",
                                    "Sex": "F",
                                    "Salary": "40000"
                                },
                                {
                                    "Employee Number": "201769",
                                    "Last Name": "Merel",
                                    "First Name": "Jayesh",
                                    "Sex": "M",
                                    "Salary": "48427"
                                },
                                {
                                    "Employee Number": "56049",
                                    "Last Name": "Waymire",
                                    "First Name": "Felicidad",
                                    "Sex": "F",
                                    "Salary": "76782"
                                }
                            ]
                        },
                        "text/html": [
                            "<table>",
                            "<tr><th>Employee Number</th><th>Last Name</th><th>First Name</th><th>Sex</th><th>Salary</th></tr>",
                            "<tr><td>473302</td><td>Zallocco</td><td>Hideyuki</td><td>M</td><td>40000</td></tr>",
                            "<tr><td>475053</td><td>Delgrande</td><td>Byong</td><td>F</td><td>53422</td></tr>",
                            "<tr><td>57444</td><td>Babb</td><td>Berry</td><td>F</td><td>48973</td></tr>",
                            "<tr><td>421786</td><td>Verhoeff</td><td>Xiong</td><td>M</td><td>40000</td></tr>",
                            "<tr><td>282238</td><td>Baumann</td><td>Abdelkader</td><td>F</td><td>40000</td></tr>",
                            "<tr><td>263976</td><td>Cusworth</td><td>Eran</td><td>M</td><td>40000</td></tr>",
                            "<tr><td>273487</td><td>Parfitt</td><td>Christoph</td><td>M</td><td>56087</td></tr>",
                            "<tr><td>461591</td><td>Samarati</td><td>Xudong</td><td>M</td><td>40000</td></tr>",
                            "<tr><td>477657</td><td>Magliocco</td><td>Lihong</td><td>M</td><td>54816</td></tr>",
                            "<tr><td>219881</td><td>Speek</td><td>Kwangyoen</td><td>F</td><td>40000</td></tr>",
                            "<tr><td>29920</td><td>Tyugu</td><td>Shuichi</td><td>F</td><td>40000</td></tr>",
                            "<tr><td>208153</td><td>Lunn</td><td>Abdulah</td><td>M</td><td>50183</td></tr>",
                            "<tr><td>13616</td><td>Lorho</td><td>Perry</td><td>F</td><td>40000</td></tr>",
                            "<tr><td>246449</td><td>Bultermann</td><td>Subbu</td><td>F</td><td>87084</td></tr>",
                            "<tr><td>21529</td><td>Zallocco</td><td>Bojan</td><td>M</td><td>40000</td></tr>",
                            "<tr><td>17934</td><td>Wuwongse</td><td>Bilhanan</td><td>M</td><td>48795</td></tr>",
                            "<tr><td>48085</td><td>Gilg</td><td>Venkatesan</td><td>M</td><td>63016</td></tr>",
                            "<tr><td>239838</td><td>Dulli</td><td>Naftali</td><td>M</td><td>57715</td></tr>",
                            "<tr><td>240129</td><td>Karnin</td><td>Roddy</td><td>M</td><td>43548</td></tr>",
                            "<tr><td>205246</td><td>Demizu</td><td>Nevio</td><td>F</td><td>80252</td></tr>",
                            "<tr><td>476443</td><td>Asmuth</td><td>Ziya</td><td>M</td><td>63371</td></tr>",
                            "<tr><td>424270</td><td>Yoshizawa</td><td>Kellyn</td><td>F</td><td>60678</td></tr>",
                            "<tr><td>71530</td><td>McAlpine</td><td>Venkatesan</td><td>M</td><td>69148</td></tr>",
                            "<tr><td>427958</td><td>Poujol</td><td>Feixiong</td><td>F</td><td>63377</td></tr>",
                            "<tr><td>280408</td><td>Perl</td><td>Elliott</td><td>M</td><td>75963</td></tr>",
                            "<tr><td>104639</td><td>Escriba</td><td>Theron</td><td>F</td><td>40000</td></tr>",
                            "<tr><td>214555</td><td>Copas</td><td>Nechama</td><td>F</td><td>40000</td></tr>",
                            "<tr><td>229010</td><td>Cappelli</td><td>Mark</td><td>M</td><td>40000</td></tr>",
                            "<tr><td>35916</td><td>Talmon</td><td>Wonhee</td><td>F</td><td>40000</td></tr>",
                            "<tr><td>61583</td><td>Vecchi</td><td>Ziva</td><td>M</td><td>50801</td></tr>",
                            "<tr><td>67799</td><td>Cools</td><td>Pantung</td><td>M</td><td>48111</td></tr>",
                            "<tr><td>37061</td><td>Herbst</td><td>Piyawadee</td><td>F</td><td>40000</td></tr>",
                            "<tr><td>411412</td><td>Schaar</td><td>Hairong</td><td>M</td><td>42348</td></tr>",
                            "<tr><td>422587</td><td>Speek</td><td>Mohit</td><td>F</td><td>40000</td></tr>",
                            "<tr><td>35270</td><td>Bakhtari</td><td>Masali</td><td>M</td><td>40338</td></tr>",
                            "<tr><td>105597</td><td>Kabayashi</td><td>Christfried</td><td>M</td><td>43841</td></tr>",
                            "<tr><td>244689</td><td>Saoudi</td><td>Urs</td><td>M</td><td>40000</td></tr>",
                            "<tr><td>48885</td><td>Antonisse</td><td>Phuoc</td><td>M</td><td>55736</td></tr>",
                            "<tr><td>244492</td><td>Pettit</td><td>Shaunak</td><td>M</td><td>63685</td></tr>",
                            "<tr><td>215615</td><td>Chinal</td><td>Bader</td><td>F</td><td>40000</td></tr>",
                            "<tr><td>95280</td><td>Hiraishi</td><td>Owen</td><td>F</td><td>40000</td></tr>",
                            "<tr><td>37473</td><td>Valette</td><td>Prasadram</td><td>M</td><td>55963</td></tr>",
                            "<tr><td>43471</td><td>Gihr</td><td>Mechthild</td><td>F</td><td>40023</td></tr>",
                            "<tr><td>289261</td><td>Nollmann</td><td>Gad</td><td>M</td><td>63068</td></tr>",
                            "<tr><td>26941</td><td>Masamoto</td><td>Shigeu</td><td>M</td><td>40000</td></tr>",
                            "<tr><td>465253</td><td>Yoshimura</td><td>Gladys</td><td>F</td><td>43653</td></tr>",
                            "<tr><td>444985</td><td>Verspoor</td><td>Giap</td><td>F</td><td>71042</td></tr>",
                            "<tr><td>299898</td><td>Janocha</td><td>Munehiko</td><td>M</td><td>63315</td></tr>",
                            "<tr><td>492723</td><td>Sanella</td><td>Piyawadee</td><td>M</td><td>46740</td></tr>",
                            "<tr><td>425023</td><td>Krone</td><td>Shaowen</td><td>M</td><td>45682</td></tr>",
                            "<tr><td>411614</td><td>Wynblatt</td><td>Martins</td><td>M</td><td>54770</td></tr>",
                            "<tr><td>425656</td><td>Imataki</td><td>Basem</td><td>M</td><td>40000</td></tr>",
                            "<tr><td>252000</td><td>Gyimothy</td><td>Zhonghui</td><td>F</td><td>40000</td></tr>",
                            "<tr><td>477628</td><td>Beutelspacher</td><td>Duro</td><td>M</td><td>58592</td></tr>",
                            "<tr><td>103676</td><td>Matzov</td><td>Karoline</td><td>F</td><td>62128</td></tr>",
                            "<tr><td>93916</td><td>Rousseau</td><td>Rosalie</td><td>F</td><td>53040</td></tr>",
                            "<tr><td>430653</td><td>Peroz</td><td>Masoud</td><td>F</td><td>69077</td></tr>",
                            "<tr><td>293744</td><td>Carrere</td><td>Kolar</td><td>M</td><td>40000</td></tr>",
                            "<tr><td>222134</td><td>Speer</td><td>Qunsheng</td><td>M</td><td>48391</td></tr>",
                            "<tr><td>465348</td><td>Beznosov</td><td>Limsoon</td><td>M</td><td>40000</td></tr>",
                            "<tr><td>92149</td><td>Kamber</td><td>Serenella</td><td>F</td><td>69585</td></tr>",
                            "<tr><td>406318</td><td>Gunderson</td><td>Hitomi</td><td>M</td><td>55145</td></tr>",
                            "<tr><td>259126</td><td>Encarnacion</td><td>Dines</td><td>M</td><td>70329</td></tr>",
                            "<tr><td>42625</td><td>Swick</td><td>Harngdar</td><td>F</td><td>55095</td></tr>",
                            "<tr><td>85093</td><td>Covnot</td><td>Nectarios</td><td>M</td><td>97816</td></tr>",
                            "<tr><td>281320</td><td>Ratzlaff</td><td>Karoline</td><td>F</td><td>41600</td></tr>",
                            "<tr><td>402202</td><td>Pusterhofer</td><td>Leni</td><td>M</td><td>41006</td></tr>",
                            "<tr><td>419277</td><td>Uhrig</td><td>Freyja</td><td>M</td><td>46833</td></tr>",
                            "<tr><td>451259</td><td>Milicic</td><td>Zhenhua</td><td>M</td><td>46138</td></tr>",
                            "<tr><td>225842</td><td>Schmezko</td><td>Bowen</td><td>M</td><td>40000</td></tr>",
                            "<tr><td>62038</td><td>Narlikar</td><td>Shiv</td><td>F</td><td>60105</td></tr>",
                            "<tr><td>256701</td><td>Veevers</td><td>Chikako</td><td>F</td><td>40000</td></tr>",
                            "<tr><td>205366</td><td>Shimshoni</td><td>Kazuhira</td><td>F</td><td>80518</td></tr>",
                            "<tr><td>101013</td><td>Pappas</td><td>Leen</td><td>M</td><td>68550</td></tr>",
                            "<tr><td>212882</td><td>Pietracaprina</td><td>Changho</td><td>F</td><td>40000</td></tr>",
                            "<tr><td>21620</td><td>Pramanik</td><td>Shaowen</td><td>M</td><td>40000</td></tr>",
                            "<tr><td>223670</td><td>Chinin</td><td>Erez</td><td>F</td><td>40000</td></tr>",
                            "<tr><td>209422</td><td>Gischer</td><td>Reinhard</td><td>M</td><td>72780</td></tr>",
                            "<tr><td>403328</td><td>Kroha</td><td>Shem</td><td>M</td><td>40000</td></tr>",
                            "<tr><td>292694</td><td>Demizu</td><td>Kauko</td><td>M</td><td>40000</td></tr>",
                            "<tr><td>483560</td><td>Krybus</td><td>Yannik</td><td>M</td><td>52487</td></tr>",
                            "<tr><td>270554</td><td>Litecky</td><td>Percy</td><td>F</td><td>40000</td></tr>",
                            "<tr><td>37601</td><td>Naumovich</td><td>Gilbert</td><td>M</td><td>58896</td></tr>",
                            "<tr><td>437985</td><td>Munke</td><td>Reuven</td><td>M</td><td>53517</td></tr>",
                            "<tr><td>14097</td><td>Gniady</td><td>Khalil</td><td>M</td><td>70604</td></tr>",
                            "<tr><td>221689</td><td>Harllee</td><td>Fayez</td><td>F</td><td>67589</td></tr>",
                            "<tr><td>62117</td><td>Crouzet</td><td>Bojan</td><td>F</td><td>40000</td></tr>",
                            "<tr><td>213813</td><td>Matzat</td><td>Tsuneo</td><td>M</td><td>51196</td></tr>",
                            "<tr><td>28823</td><td>Skafidas</td><td>Tonny</td><td>M</td><td>62549</td></tr>",
                            "<tr><td>284330</td><td>Pehl</td><td>Bangqing</td><td>F</td><td>43654</td></tr>",
                            "<tr><td>107258</td><td>Zaumen</td><td>Parviz</td><td>F</td><td>87036</td></tr>",
                            "<tr><td>209527</td><td>Danlos</td><td>Sashi</td><td>M</td><td>40000</td></tr>",
                            "<tr><td>207774</td><td>Trachtenberg</td><td>KayLiang</td><td>M</td><td>53722</td></tr>",
                            "<tr><td>11980</td><td>Pews</td><td>Yechezkel</td><td>M</td><td>58241</td></tr>",
                            "<tr><td>270258</td><td>Hasenauer</td><td>Feipei</td><td>M</td><td>40000</td></tr>",
                            "<tr><td>492191</td><td>Vakili</td><td>Remco</td><td>F</td><td>49502</td></tr>",
                            "<tr><td>457800</td><td>Domenig</td><td>Stabislas</td><td>M</td><td>64014</td></tr>",
                            "<tr><td>446142</td><td>Zedlitz</td><td>Gregory</td><td>F</td><td>40000</td></tr>",
                            "<tr><td>201769</td><td>Merel</td><td>Jayesh</td><td>M</td><td>48427</td></tr>",
                            "<tr><td>56049</td><td>Waymire</td><td>Felicidad</td><td>F</td><td>76782</td></tr>",
                            "</table>"
                        ]
                    }
                }
            ],
            "execution_count": 4
        },
        {
            "cell_type": "markdown",
            "source": [
                "<span style=\"color: rgb(43, 43, 43); font-family: Roboto, sans-serif; font-size: 20px; background-color: yellow;\">List the first name, last name, and hire date for the employees who were hired in 1986</span>"
            ],
            "metadata": {
                "language": "sql",
                "azdata_cell_guid": "86b162f5-d69e-4db7-96b9-e0ffb40c3a55"
            },
            "attachments": {}
        },
        {
            "cell_type": "code",
            "source": [
                "SELECT\r\n",
                "    last_name AS \"Last Name\",\r\n",
                "    first_name AS \"First Name\",\r\n",
                "    sex AS \"Sex\",\r\n",
                "    (SELECT salary FROM Salaries WHERE emp_no = Employees.emp_no) AS \"Salary\"\r\n",
                "FROM\r\n",
                "    Employees\r\n",
                "    Limit (100);"
            ],
            "metadata": {
                "language": "sql",
                "azdata_cell_guid": "9833c4c2-4d51-41d6-87a9-d357f5c5a959"
            },
            "outputs": [],
            "execution_count": null
        }
    ]
}